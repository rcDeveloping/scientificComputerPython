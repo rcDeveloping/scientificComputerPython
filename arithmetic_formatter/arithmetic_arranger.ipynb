{
 "cells": [
  {
   "cell_type": "code",
   "execution_count": 105,
   "metadata": {},
   "outputs": [],
   "source": [
    "import re\n",
    "\n",
    "def arithmetic_arranger(input_list, result=None):\n",
    "    clean_list = []\n",
    "    digits = []\n",
    "    first_num = []\n",
    "    sec_num = []\n",
    "    operators = [] \n",
    "    len_first_num = []\n",
    "    len_sec_num = []\n",
    "    out_put_result = []\n",
    "    \n",
    "    # loop over the input list\n",
    "    for i in input_list:\n",
    "        digits.append(i.split()[0])\n",
    "        digits.append(i.split()[2])\n",
    "        operators.append(i.split()[1])  # get the operator sign\n",
    "            \n",
    "    # Check out if the length of the input list is less than or equal to 5 \n",
    "    if len(input_list) > 5:\n",
    "        return \"Error: Too many problems.\"\n",
    "        \n",
    "    # Check out if the operators are only '+' and '-'\n",
    "    elif any(i for i in operators if (re.search(\"[^+-]\", i))):\n",
    "        return \"Error: Operator must be '+' or '-'.\"\n",
    "    \n",
    "    # Each number (operand) should only contain digits\n",
    "    elif any(i for i in digits if (re.search('[^0-9]', str(i)))):\n",
    "        return \"Error: Numbers must only contain digits.\"\n",
    "\n",
    "    # Each number sould have a max of four digits in width\n",
    "    elif any(i for i in digits if (len(str(i)) > 4)):\n",
    "        return \"Error: Numbers cannot be more than four digits.\"\n",
    "        \n",
    "    else:\n",
    "        operators.clear()\n",
    "        digits.clear()\n",
    "        \n",
    "        # input_list cleaning\n",
    "        for i in input_list:\n",
    "            clean_list.append(i.split())\n",
    "            \n",
    "        # clean_list processing\n",
    "        for i in clean_list:\n",
    "            first_num.append(int(i[0]))  # convert string to integer value\n",
    "            sec_num.append(int(i[2]))  # convert string to integer value\n",
    "            operators.append(i[1])  # get the operator sign\n",
    "            len_first_num.append(len(i[0])) # get the length of the first number\n",
    "            len_sec_num.append(len(i[2]))  # get the length of the second number\n",
    "    \n",
    "    \n",
    "        # set variables\n",
    "        empty_space = ' '\n",
    "        sort_out_list = ''\n",
    "\n",
    "        # out put processing\n",
    "        if result == True:\n",
    "            for i in range(len(operators)):\n",
    "\n",
    "                # check out for operator signs\n",
    "                if operators[i] == '+':  \n",
    "                    out_put_result.append(str(first_num[i] + sec_num[i]))\n",
    "\n",
    "                else:\n",
    "                    out_put_result.append(str(first_num[i] - sec_num[i]))\n",
    "\n",
    "        # set lenght of upper operand (number) - First line\n",
    "        for i in range(len(first_num)):    \n",
    "            width_first_num = max(len(str(first_num[i])), len(str(sec_num[i]))) + 2\n",
    "            sort_out_list += 4 * empty_space + str(first_num[i]).rjust(width_first_num)\n",
    "        sort_out_list = sort_out_list.rstrip() # copy\n",
    "        sort_out_list += \"\\n\"\n",
    "\n",
    "        # set lenght of bottom operand (number) - Second line\n",
    "        for i in range(len(sec_num)):    \n",
    "            width_sec_num = max(len(str(first_num[i])), len(str(sec_num[i]))) + 1\n",
    "            sort_out_list += 4 * empty_space + (str(operators[i]) + (str(sec_num[i])).rjust(width_sec_num))\n",
    "        sort_out_list = sort_out_list.rstrip() # copy\n",
    "        sort_out_list += \"\\n\"\n",
    "\n",
    "        # set the number of 'dash' signs - Third line\n",
    "        for i in range(len(sec_num)):\n",
    "            dash_sign_len = max(len(str(first_num[i])), len(str(sec_num[i]))) + 2\n",
    "            sort_out_list += 4 * empty_space + '-' * dash_sign_len\n",
    "        sort_out_list = sort_out_list.rstrip()\n",
    "\n",
    "        # arranger and arithmetic out put\n",
    "        if result:\n",
    "            sort_out_list += \"\\n\"\n",
    "            for i in range(len(out_put_result)):\n",
    "                width_result = max(len(str(first_num[i])), len(str(sec_num[i]))) + 2\n",
    "                sort_out_list += 4 * empty_space + str(out_put_result[i]).rjust(width_result)\n",
    "            sort_out_list = sort_out_list.rstrip()\n",
    "        \n",
    "        # Empty the lists\n",
    "        clean_list.clear()\n",
    "        first_num.clear()\n",
    "        sec_num.clear()\n",
    "        len_first_num.clear()\n",
    "        len_sec_num.clear()\n",
    "    \n",
    "    return print(sort_out_list, end='\\n\\n')\n"
   ]
  },
  {
   "cell_type": "code",
   "execution_count": 106,
   "metadata": {},
   "outputs": [
    {
     "name": "stdout",
     "output_type": "stream",
     "text": [
      "      3801      123\n",
      "    -    2    +  49\n",
      "    ------    -----\n",
      "\n"
     ]
    }
   ],
   "source": [
    "arithmetic_arranger(['3801 - 2', '123 + 49'])"
   ]
  },
  {
   "cell_type": "code",
   "execution_count": 107,
   "metadata": {},
   "outputs": [
    {
     "name": "stdout",
     "output_type": "stream",
     "text": [
      "      1         1\n",
      "    + 2    - 9380\n",
      "    ---    ------\n",
      "\n"
     ]
    }
   ],
   "source": [
    "arithmetic_arranger([\"1 + 2\", \"1 - 9380\"])"
   ]
  },
  {
   "cell_type": "code",
   "execution_count": 108,
   "metadata": {},
   "outputs": [
    {
     "name": "stdout",
     "output_type": "stream",
     "text": [
      "        3      3801      45      123\n",
      "    + 855    -    2    + 43    +  49\n",
      "    -----    ------    ----    -----\n",
      "\n"
     ]
    }
   ],
   "source": [
    "arithmetic_arranger(['3 + 855', '3801 - 2', '45 + 43', '123 + 49'])"
   ]
  },
  {
   "cell_type": "code",
   "execution_count": 109,
   "metadata": {},
   "outputs": [
    {
     "name": "stdout",
     "output_type": "stream",
     "text": [
      "      11      3801      1      123         1\n",
      "    +  4    - 2999    + 2    +  49    - 9380\n",
      "    ----    ------    ---    -----    ------\n",
      "\n"
     ]
    }
   ],
   "source": [
    "arithmetic_arranger(['11 + 4', '3801 - 2999', '1 + 2', '123 + 49', '1 - 9380'])"
   ]
  },
  {
   "cell_type": "code",
   "execution_count": 110,
   "metadata": {},
   "outputs": [
    {
     "data": {
      "text/plain": [
       "'Error: Too many problems.'"
      ]
     },
     "execution_count": 110,
     "metadata": {},
     "output_type": "execute_result"
    }
   ],
   "source": [
    "arithmetic_arranger(['44 + 815', '909 - 2', '45 + 43', '123 + 49', '888 + 40', '653 + 87'])"
   ]
  },
  {
   "cell_type": "code",
   "execution_count": 111,
   "metadata": {},
   "outputs": [
    {
     "data": {
      "text/plain": [
       "\"Error: Operator must be '+' or '-'.\""
      ]
     },
     "execution_count": 111,
     "metadata": {},
     "output_type": "execute_result"
    }
   ],
   "source": [
    "arithmetic_arranger(['3 / 855', '3801 - 2', '45 + 43', '123 + 49'])"
   ]
  },
  {
   "cell_type": "code",
   "execution_count": 112,
   "metadata": {},
   "outputs": [
    {
     "data": {
      "text/plain": [
       "'Error: Numbers cannot be more than four digits.'"
      ]
     },
     "execution_count": 112,
     "metadata": {},
     "output_type": "execute_result"
    }
   ],
   "source": [
    "arithmetic_arranger(['24 + 85215', '3801 - 2', '45 + 43', '123 + 49'])"
   ]
  },
  {
   "cell_type": "code",
   "execution_count": 113,
   "metadata": {},
   "outputs": [
    {
     "data": {
      "text/plain": [
       "'Error: Numbers must only contain digits.'"
      ]
     },
     "execution_count": 113,
     "metadata": {},
     "output_type": "execute_result"
    }
   ],
   "source": [
    "arithmetic_arranger(['98 + 3g5', '3801 - 2', '45 + 43', '123 + 49'])"
   ]
  },
  {
   "cell_type": "code",
   "execution_count": 114,
   "metadata": {},
   "outputs": [
    {
     "name": "stdout",
     "output_type": "stream",
     "text": [
      "        3      988\n",
      "    + 855    +  40\n",
      "    -----    -----\n",
      "      858     1028\n",
      "\n"
     ]
    }
   ],
   "source": [
    "arithmetic_arranger(['3 + 855', '988 + 40'], True)"
   ]
  },
  {
   "cell_type": "code",
   "execution_count": 115,
   "metadata": {},
   "outputs": [
    {
     "name": "stdout",
     "output_type": "stream",
     "text": [
      "       32         1      45      123      988\n",
      "    - 698    - 3801    + 43    +  49    +  40\n",
      "    -----    ------    ----    -----    -----\n",
      "     -666     -3800      88      172     1028\n",
      "\n"
     ]
    }
   ],
   "source": [
    "arithmetic_arranger(['32 - 698', '1 - 3801', '45 + 43', '123 + 49', '988 + 40'], True)"
   ]
  },
  {
   "cell_type": "code",
   "execution_count": null,
   "metadata": {},
   "outputs": [],
   "source": []
  },
  {
   "cell_type": "code",
   "execution_count": null,
   "metadata": {},
   "outputs": [],
   "source": []
  }
 ],
 "metadata": {
  "kernelspec": {
   "display_name": "Python 3",
   "language": "python",
   "name": "python3"
  },
  "language_info": {
   "codemirror_mode": {
    "name": "ipython",
    "version": 3
   },
   "file_extension": ".py",
   "mimetype": "text/x-python",
   "name": "python",
   "nbconvert_exporter": "python",
   "pygments_lexer": "ipython3",
   "version": "3.6.6"
  }
 },
 "nbformat": 4,
 "nbformat_minor": 2
}
