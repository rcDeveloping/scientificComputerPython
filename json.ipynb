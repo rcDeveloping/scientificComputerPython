{
 "cells": [
  {
   "cell_type": "code",
   "execution_count": 2,
   "metadata": {},
   "outputs": [],
   "source": [
    "import json"
   ]
  },
  {
   "cell_type": "code",
   "execution_count": 11,
   "metadata": {},
   "outputs": [],
   "source": [
    "data = '''{\n",
    "    \"name\": \"Maria\",\n",
    "    \"phone\": {\n",
    "        \"type\": \"intl\",\n",
    "        \"number\": \"+55 91 92355-9249\"\n",
    "    },\n",
    "    \"email\": {\n",
    "        \"hide\": \"yes\"\n",
    "    }\n",
    "}'''"
   ]
  },
  {
   "cell_type": "code",
   "execution_count": 12,
   "metadata": {},
   "outputs": [],
   "source": [
    "info = json.loads(data)"
   ]
  },
  {
   "cell_type": "code",
   "execution_count": 18,
   "metadata": {},
   "outputs": [
    {
     "name": "stdout",
     "output_type": "stream",
     "text": [
      "Name:  Maria\n",
      "Phone Number:  +55 91 92355-9249\n",
      "Hide:  yes\n"
     ]
    }
   ],
   "source": [
    "print('Name: ', info['name'])\n",
    "print('Phone Number: ', info['phone']['number'])\n",
    "print('Hide: ', info['email']['hide'])"
   ]
  },
  {
   "cell_type": "code",
   "execution_count": 23,
   "metadata": {},
   "outputs": [],
   "source": [
    "input = '''[\n",
    "    { \"id\": \"001\",\n",
    "       \"x\": \"2\",\n",
    "       \"name\": \"Zelda\"\n",
    "    },\n",
    "    { \"id\": \"009\",\n",
    "        \"x\": \"5\",\n",
    "        \"name\": \"Dino\"\n",
    "    }\n",
    "]'''"
   ]
  },
  {
   "cell_type": "code",
   "execution_count": 24,
   "metadata": {},
   "outputs": [],
   "source": [
    "info = json.loads(input)"
   ]
  },
  {
   "cell_type": "code",
   "execution_count": 25,
   "metadata": {},
   "outputs": [
    {
     "name": "stdout",
     "output_type": "stream",
     "text": [
      "User Count:  2\n"
     ]
    }
   ],
   "source": [
    "print('User Count: ', len(info))"
   ]
  },
  {
   "cell_type": "code",
   "execution_count": 28,
   "metadata": {},
   "outputs": [
    {
     "name": "stdout",
     "output_type": "stream",
     "text": [
      "Fisrt Client:  Zelda\n"
     ]
    }
   ],
   "source": [
    "print('Fisrt Client: ', info[0]['name'])"
   ]
  },
  {
   "cell_type": "code",
   "execution_count": 27,
   "metadata": {},
   "outputs": [
    {
     "name": "stdout",
     "output_type": "stream",
     "text": [
      "Id:  001\n",
      "Name:  Zelda\n",
      "Attribute:  2\n",
      "Id:  009\n",
      "Name:  Dino\n",
      "Attribute:  5\n"
     ]
    }
   ],
   "source": [
    "for item in info:\n",
    "    print('Id: ', item['id'])\n",
    "    print('Name: ', item['name'])\n",
    "    print('Attribute: ', item['x'])\n",
    "    "
   ]
  },
  {
   "cell_type": "code",
   "execution_count": null,
   "metadata": {},
   "outputs": [],
   "source": []
  }
 ],
 "metadata": {
  "kernelspec": {
   "display_name": "Python 3",
   "language": "python",
   "name": "python3"
  },
  "language_info": {
   "codemirror_mode": {
    "name": "ipython",
    "version": 3
   },
   "file_extension": ".py",
   "mimetype": "text/x-python",
   "name": "python",
   "nbconvert_exporter": "python",
   "pygments_lexer": "ipython3",
   "version": "3.6.6"
  }
 },
 "nbformat": 4,
 "nbformat_minor": 2
}
